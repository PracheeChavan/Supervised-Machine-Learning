{
  "cells": [
    {
      "cell_type": "markdown",
      "source": [
        "# Titanic 3: Creating a Pipeline and tuning the model with Grid Search Cross Validation"
      ],
      "metadata": {
        "id": "qXFGScYJv0zO"
      }
    },
    {
      "cell_type": "markdown",
      "source": [
        "## 1. Data reading and preprocessing\n",
        "\n",
        "We will first review everything we did in the previous notebook."
      ],
      "metadata": {
        "id": "hvblkIsDwBlI"
      }
    },
    {
      "cell_type": "code",
      "execution_count": 95,
      "metadata": {
        "id": "fgUcuPKovu5T"
      },
      "outputs": [],
      "source": [
        "import pandas as pd\n",
        "\n",
        "url = \"https://drive.google.com/file/d/1g3uhw_y3tboRm2eYDPfUzXXsw8IOYDCy/view?usp=sharing\"\n",
        "path = 'https://drive.google.com/uc?export=download&id='+url.split('/')[-2]\n",
        "\n",
        "data = pd.read_csv(path)"
      ]
    },
    {
      "cell_type": "markdown",
      "metadata": {
        "id": "57d0l4uEvu5W"
      },
      "source": [
        "### 1.1. Setting X and y\n",
        "\n",
        "- **X**: columns that help us make a prediction.\n",
        "- **y**: the column that we want to predict."
      ]
    },
    {
      "cell_type": "code",
      "execution_count": 96,
      "metadata": {
        "id": "3rX2vgy5vu5Y"
      },
      "outputs": [],
      "source": [
        "X = data.drop(columns=[\"PassengerId\", \"Name\", \"Ticket\"])\n",
        "y = X.pop(\"Survived\")"
      ]
    },
    {
      "cell_type": "markdown",
      "metadata": {
        "id": "9kP78izKvu5Y"
      },
      "source": [
        "### 1.2. Feature Selection: keeping only numerical features\n",
        "\n",
        "Scikit-Learn models cannot deal with categorical features"
      ]
    },
    {
      "cell_type": "code",
      "execution_count": 97,
      "metadata": {
        "id": "JgVzbmBGvu5Z"
      },
      "outputs": [],
      "source": [
        "X_num = X.select_dtypes(include=\"number\")"
      ]
    },
    {
      "cell_type": "markdown",
      "metadata": {
        "id": "IDfzSb5hvu5Z"
      },
      "source": [
        "### 1.3. Data splitting"
      ]
    },
    {
      "cell_type": "code",
      "execution_count": 98,
      "metadata": {
        "id": "ul_C6DXMvu5a"
      },
      "outputs": [],
      "source": [
        "from sklearn.model_selection import train_test_split\n",
        "\n",
        "X_num_train, X_num_test, y_train, y_test = train_test_split(X_num, \n",
        "                                                            y, \n",
        "                                                            test_size=0.2, \n",
        "                                                            random_state=123)"
      ]
    },
    {
      "cell_type": "markdown",
      "metadata": {
        "id": "x9RPgKLhvu5b"
      },
      "source": [
        "### 1.4. Imputing missing values\n",
        "\n",
        "(Fit on train, transform train & test)"
      ]
    },
    {
      "cell_type": "code",
      "execution_count": 99,
      "metadata": {
        "id": "a6KZkxN3vu5b"
      },
      "outputs": [],
      "source": [
        "from sklearn.impute import SimpleImputer\n",
        "\n",
        "my_imputer = SimpleImputer() # initialize\n",
        "my_imputer.fit(X_num_train) # fit on the train set\n",
        "X_num_imputed_train = my_imputer.transform(X_num_train) # transform the train set\n",
        "X_num_imputed_test = my_imputer.transform(X_num_test) # transform the test set"
      ]
    },
    {
      "cell_type": "markdown",
      "metadata": {
        "id": "g0QFXBvGvu5c"
      },
      "source": [
        "### 1.5. Modelling: Decision Tree\n",
        "\n",
        "https://scikit-learn.org/stable/modules/generated/sklearn.tree.DecisionTreeClassifier.html"
      ]
    },
    {
      "cell_type": "code",
      "execution_count": 100,
      "metadata": {
        "id": "oZmmxJ63vu5d",
        "colab": {
          "base_uri": "https://localhost:8080/"
        },
        "outputId": "458915a4-1e53-4be1-dccd-9bc30e0ac338"
      },
      "outputs": [
        {
          "output_type": "execute_result",
          "data": {
            "text/plain": [
              "DecisionTreeClassifier(max_depth=6, min_samples_leaf=10)"
            ]
          },
          "metadata": {},
          "execution_count": 100
        }
      ],
      "source": [
        "# 1. import the model\n",
        "from sklearn.tree import DecisionTreeClassifier \n",
        "\n",
        "# 2. initialize the model\n",
        "my_tree = DecisionTreeClassifier(max_depth=6,\n",
        "                                 min_samples_leaf=10\n",
        "                                )\n",
        "\n",
        "# 3. fit the model to the train data\n",
        "my_tree.fit(X = X_num_imputed_train, \n",
        "            y = y_train)"
      ]
    },
    {
      "cell_type": "markdown",
      "metadata": {
        "id": "mySTGdw_vu5d"
      },
      "source": [
        "### 1.6. Check accuracy on the train set"
      ]
    },
    {
      "cell_type": "code",
      "execution_count": 101,
      "metadata": {
        "id": "kfa0Aoi6vu5e",
        "colab": {
          "base_uri": "https://localhost:8080/"
        },
        "outputId": "e5c1fc8c-c2ad-4a7d-d79f-2d447d4c809d"
      },
      "outputs": [
        {
          "output_type": "execute_result",
          "data": {
            "text/plain": [
              "0.7359550561797753"
            ]
          },
          "metadata": {},
          "execution_count": 101
        }
      ],
      "source": [
        "from sklearn.metrics import accuracy_score\n",
        "\n",
        "y_pred_tree_train = my_tree.predict(X_num_imputed_train)\n",
        "\n",
        "accuracy_score(y_true = y_train,\n",
        "               y_pred = y_pred_tree_train)"
      ]
    },
    {
      "cell_type": "markdown",
      "metadata": {
        "id": "uAUerP3Gvu5e"
      },
      "source": [
        "### 1.7. Check accuracy on the test set"
      ]
    },
    {
      "cell_type": "code",
      "execution_count": 102,
      "metadata": {
        "id": "P3DZqJnnvu5e",
        "colab": {
          "base_uri": "https://localhost:8080/"
        },
        "outputId": "88a0b3d4-82ba-4023-9800-52bdb798b9c7"
      },
      "outputs": [
        {
          "output_type": "execute_result",
          "data": {
            "text/plain": [
              "0.7094972067039106"
            ]
          },
          "metadata": {},
          "execution_count": 102
        }
      ],
      "source": [
        "y_pred_tree_test = my_tree.predict(X_num_imputed_test)\n",
        "\n",
        "accuracy_score(y_true = y_test,\n",
        "               y_pred = y_pred_tree_test)"
      ]
    },
    {
      "cell_type": "markdown",
      "metadata": {
        "id": "Rm08l1JBvu5h"
      },
      "source": [
        "## 2. Creating a Pipeline\n",
        "\n",
        "Before moving forward in our quest to improve the model, take a moment to learn how to use Scikit-Learn Pipelines. They will not increase your performance, but they are a necessary tool to compress all the steps in the data preparation + modelling phases into a single one, and this will become very relevant as we move forward and keep adding new steps:\n",
        "\n",
        "* Read the lesson \"Scikit-Learn Pipelines\" on the platform.\n",
        "\n",
        "* Check the docs: https://scikit-learn.org/stable/modules/generated/sklearn.pipeline.make_pipeline.html"
      ]
    },
    {
      "cell_type": "code",
      "execution_count": 103,
      "metadata": {
        "id": "kdkaTOjYvu5h",
        "colab": {
          "base_uri": "https://localhost:8080/"
        },
        "outputId": "5c217056-70c1-48ff-a698-a152a7431464"
      },
      "outputs": [
        {
          "output_type": "execute_result",
          "data": {
            "text/plain": [
              "array([1, 0, 1, 0, 0, 0, 1, 1, 0, 0, 0, 0, 1, 0, 0, 1, 1, 1, 0, 1, 0, 1,\n",
              "       0, 1, 1, 0, 0, 1, 0, 0, 1, 1, 0, 0, 1, 0, 0, 0, 0, 1, 1, 0, 0, 0,\n",
              "       0, 0, 1, 1, 0, 1, 0, 1, 0, 0, 0, 0, 0, 0, 1, 0, 1, 1, 1, 1, 0, 0,\n",
              "       0, 0, 1, 0, 1, 0, 1, 0, 0, 0, 0, 0, 1, 1, 0, 0, 0, 0, 0, 0, 1, 0,\n",
              "       1, 0, 0, 1, 0, 1, 1, 0, 1, 1, 0, 1, 1, 1, 0, 0, 0, 1, 0, 0, 0, 0,\n",
              "       1, 1, 1, 0, 0, 0, 0, 0, 0, 1, 0, 0, 1, 0, 1, 0, 0, 1, 0, 0, 0, 0,\n",
              "       0, 1, 0, 0, 1, 0, 0, 1, 0, 1, 0, 1, 1, 0, 0, 0, 0, 1, 0, 0, 0, 0,\n",
              "       1, 0, 0, 1, 0, 0, 0, 0, 1, 1, 0, 1, 0, 0, 0, 0, 0, 1, 0, 1, 0, 0,\n",
              "       1, 0, 0])"
            ]
          },
          "metadata": {},
          "execution_count": 103
        }
      ],
      "source": [
        "from sklearn.impute import SimpleImputer\n",
        "from sklearn.tree import DecisionTreeClassifier\n",
        "from sklearn.pipeline import make_pipeline\n",
        "\n",
        "# 1. initialize transformers &amp; model\n",
        "imputer = SimpleImputer(strategy=\"median\")\n",
        "dtree = DecisionTreeClassifier(max_depth=4,\n",
        "                               min_samples_leaf=10)\n",
        " \n",
        "# 2. Create a pipeline*\n",
        "pipe = make_pipeline(imputer, dtree)\n",
        " \n",
        "# 3. Fit the pipeline to the training data\n",
        "pipe.fit(X_num_train, y_train)\n",
        " \n",
        "# 4. Use the pipeline to make predictions\n",
        "pipe.predict(X_num_test)"
      ]
    },
    {
      "cell_type": "markdown",
      "source": [
        "Now, the object `pipie` can take (almost) raw data as input and output predictions. We no longer need to impute missing values and use the model to make predictions in separate steps."
      ],
      "metadata": {
        "id": "oXN7nfdoa6IT"
      }
    },
    {
      "cell_type": "markdown",
      "metadata": {
        "id": "EuOESLyyvu5i"
      },
      "source": [
        "## 3. Using GridsearchCV to find the best parameters\n",
        "\n",
        "So far, we tuned the hyperparameters of the decision tree manually. This is not ideal, for two reasons:\n",
        "\n",
        "- It's not efficient in terms of quickly finding the best combination of parameters.\n",
        "- If we keep checking the performance on the test set over and over again, we might end up creating a model that fits that particular test set, but does not generalize as well with new data. Test sets are meant to reamain unseen until the very last moment of ML development —we have been cheating a bit!\n",
        "\n",
        "Grid Search Cross Validation solves both issues:\n",
        "\n",
        "* Read the lesson \"Housing Prices: Iteration 2, Grid Search & Cross Validation\" on the platform.\n",
        "\n",
        "* Check the docs: https://scikit-learn.org/stable/modules/generated/sklearn.model_selection.GridSearchCV.html"
      ]
    },
    {
      "cell_type": "code",
      "execution_count": 104,
      "metadata": {
        "id": "W7awfF-qvu5i"
      },
      "outputs": [],
      "source": [
        "# 1. initialize transformers &amp; model\n",
        "imputer = SimpleImputer()\n",
        "dtree = DecisionTreeClassifier()\n",
        " \n",
        "# 2. Create a pipeline*\n",
        "pipe = make_pipeline(imputer, dtree)\n",
        "\n",
        "param_grid = {\n",
        "    'decisiontreeclassifier__max_depth': range(2, 12),\n",
        "    'decisiontreeclassifier__min_samples_leaf': range(3, 10, 2),\n",
        "    'decisiontreeclassifier__min_samples_split': range(3, 40, 5),\n",
        "    'decisiontreeclassifier__criterion':['gini', 'entropy']\n",
        "    }\n",
        "    \n",
        "from sklearn.model_selection import GridSearchCV\n",
        " \n",
        "search = GridSearchCV(pipe, # you have defined this beforehand\n",
        "                      param_grid, # your parameter grid\n",
        "                      cv=5, # the value for K in K-fold Cross Validation\n",
        "                      scoring='accuracy', # the performance metric to use, \n",
        "                      verbose=1) # we want informative outputs during the training process"
      ]
    },
    {
      "cell_type": "code",
      "execution_count": 105,
      "metadata": {
        "id": "aHJ_JHWEvu5i",
        "colab": {
          "base_uri": "https://localhost:8080/"
        },
        "outputId": "24eaec33-34bb-4b52-e48e-79df55699a18"
      },
      "outputs": [
        {
          "output_type": "stream",
          "name": "stdout",
          "text": [
            "Fitting 5 folds for each of 640 candidates, totalling 3200 fits\n"
          ]
        },
        {
          "output_type": "execute_result",
          "data": {
            "text/plain": [
              "GridSearchCV(cv=5,\n",
              "             estimator=Pipeline(steps=[('simpleimputer', SimpleImputer()),\n",
              "                                       ('decisiontreeclassifier',\n",
              "                                        DecisionTreeClassifier())]),\n",
              "             param_grid={'decisiontreeclassifier__criterion': ['gini',\n",
              "                                                               'entropy'],\n",
              "                         'decisiontreeclassifier__max_depth': range(2, 12),\n",
              "                         'decisiontreeclassifier__min_samples_leaf': range(3, 10, 2),\n",
              "                         'decisiontreeclassifier__min_samples_split': range(3, 40, 5)},\n",
              "             scoring='accuracy', verbose=1)"
            ]
          },
          "metadata": {},
          "execution_count": 105
        }
      ],
      "source": [
        "search.fit(X_num_imputed_train, y_train)"
      ]
    },
    {
      "cell_type": "code",
      "execution_count": 106,
      "metadata": {
        "id": "UhJHlajCvu5i",
        "colab": {
          "base_uri": "https://localhost:8080/"
        },
        "outputId": "90fc42d5-1ed2-493c-ff41-c373982fbb82"
      },
      "outputs": [
        {
          "output_type": "execute_result",
          "data": {
            "text/plain": [
              "{'decisiontreeclassifier__criterion': 'gini',\n",
              " 'decisiontreeclassifier__max_depth': 7,\n",
              " 'decisiontreeclassifier__min_samples_leaf': 3,\n",
              " 'decisiontreeclassifier__min_samples_split': 8}"
            ]
          },
          "metadata": {},
          "execution_count": 106
        }
      ],
      "source": [
        "search.best_params_"
      ]
    },
    {
      "cell_type": "code",
      "execution_count": 107,
      "metadata": {
        "id": "UzXybXmDvu5i",
        "colab": {
          "base_uri": "https://localhost:8080/"
        },
        "outputId": "985cd621-8517-460f-ba12-131c66bb1582"
      },
      "outputs": [
        {
          "output_type": "execute_result",
          "data": {
            "text/plain": [
              "0.7036934896089826"
            ]
          },
          "metadata": {},
          "execution_count": 107
        }
      ],
      "source": [
        "search.best_score_"
      ]
    },
    {
      "cell_type": "markdown",
      "source": [
        "## **Your challenge**\n",
        "\n",
        "In a new notebook, apply everything you have learned here to the Housing project, following the Learning platform when needed."
      ],
      "metadata": {
        "id": "U5zAyC8_Uwpz"
      }
    },
    {
      "cell_type": "markdown",
      "source": [
        "## 1. Data reading and preprocessing"
      ],
      "metadata": {
        "id": "4pmu02AcaAkQ"
      }
    },
    {
      "cell_type": "markdown",
      "source": [
        "### 1.1. Setting X and y"
      ],
      "metadata": {
        "id": "EPtvYXrCZ4F9"
      }
    },
    {
      "cell_type": "code",
      "source": [
        "import pandas as pd\n",
        "\n",
        "data = pd.read_csv('housing-classification-iter-0-2.csv')\n",
        "data.head(3)"
      ],
      "metadata": {
        "id": "3PMad0HLXeZO",
        "colab": {
          "base_uri": "https://localhost:8080/",
          "height": 143
        },
        "outputId": "38ae666b-8510-48b8-a869-5f9fea8a9109"
      },
      "execution_count": 108,
      "outputs": [
        {
          "output_type": "execute_result",
          "data": {
            "text/plain": [
              "   LotArea  LotFrontage  TotalBsmtSF  BedroomAbvGr  Fireplaces  PoolArea  \\\n",
              "0     8450         65.0          856             3           0         0   \n",
              "1     9600         80.0         1262             3           1         0   \n",
              "2    11250         68.0          920             3           1         0   \n",
              "\n",
              "   GarageCars  WoodDeckSF  ScreenPorch  Expensive  \n",
              "0           2           0            0          0  \n",
              "1           2         298            0          0  \n",
              "2           2           0            0          0  "
            ],
            "text/html": [
              "\n",
              "  <div id=\"df-ca8068ce-57d0-4856-b038-52327c4d3767\">\n",
              "    <div class=\"colab-df-container\">\n",
              "      <div>\n",
              "<style scoped>\n",
              "    .dataframe tbody tr th:only-of-type {\n",
              "        vertical-align: middle;\n",
              "    }\n",
              "\n",
              "    .dataframe tbody tr th {\n",
              "        vertical-align: top;\n",
              "    }\n",
              "\n",
              "    .dataframe thead th {\n",
              "        text-align: right;\n",
              "    }\n",
              "</style>\n",
              "<table border=\"1\" class=\"dataframe\">\n",
              "  <thead>\n",
              "    <tr style=\"text-align: right;\">\n",
              "      <th></th>\n",
              "      <th>LotArea</th>\n",
              "      <th>LotFrontage</th>\n",
              "      <th>TotalBsmtSF</th>\n",
              "      <th>BedroomAbvGr</th>\n",
              "      <th>Fireplaces</th>\n",
              "      <th>PoolArea</th>\n",
              "      <th>GarageCars</th>\n",
              "      <th>WoodDeckSF</th>\n",
              "      <th>ScreenPorch</th>\n",
              "      <th>Expensive</th>\n",
              "    </tr>\n",
              "  </thead>\n",
              "  <tbody>\n",
              "    <tr>\n",
              "      <th>0</th>\n",
              "      <td>8450</td>\n",
              "      <td>65.0</td>\n",
              "      <td>856</td>\n",
              "      <td>3</td>\n",
              "      <td>0</td>\n",
              "      <td>0</td>\n",
              "      <td>2</td>\n",
              "      <td>0</td>\n",
              "      <td>0</td>\n",
              "      <td>0</td>\n",
              "    </tr>\n",
              "    <tr>\n",
              "      <th>1</th>\n",
              "      <td>9600</td>\n",
              "      <td>80.0</td>\n",
              "      <td>1262</td>\n",
              "      <td>3</td>\n",
              "      <td>1</td>\n",
              "      <td>0</td>\n",
              "      <td>2</td>\n",
              "      <td>298</td>\n",
              "      <td>0</td>\n",
              "      <td>0</td>\n",
              "    </tr>\n",
              "    <tr>\n",
              "      <th>2</th>\n",
              "      <td>11250</td>\n",
              "      <td>68.0</td>\n",
              "      <td>920</td>\n",
              "      <td>3</td>\n",
              "      <td>1</td>\n",
              "      <td>0</td>\n",
              "      <td>2</td>\n",
              "      <td>0</td>\n",
              "      <td>0</td>\n",
              "      <td>0</td>\n",
              "    </tr>\n",
              "  </tbody>\n",
              "</table>\n",
              "</div>\n",
              "      <button class=\"colab-df-convert\" onclick=\"convertToInteractive('df-ca8068ce-57d0-4856-b038-52327c4d3767')\"\n",
              "              title=\"Convert this dataframe to an interactive table.\"\n",
              "              style=\"display:none;\">\n",
              "        \n",
              "  <svg xmlns=\"http://www.w3.org/2000/svg\" height=\"24px\"viewBox=\"0 0 24 24\"\n",
              "       width=\"24px\">\n",
              "    <path d=\"M0 0h24v24H0V0z\" fill=\"none\"/>\n",
              "    <path d=\"M18.56 5.44l.94 2.06.94-2.06 2.06-.94-2.06-.94-.94-2.06-.94 2.06-2.06.94zm-11 1L8.5 8.5l.94-2.06 2.06-.94-2.06-.94L8.5 2.5l-.94 2.06-2.06.94zm10 10l.94 2.06.94-2.06 2.06-.94-2.06-.94-.94-2.06-.94 2.06-2.06.94z\"/><path d=\"M17.41 7.96l-1.37-1.37c-.4-.4-.92-.59-1.43-.59-.52 0-1.04.2-1.43.59L10.3 9.45l-7.72 7.72c-.78.78-.78 2.05 0 2.83L4 21.41c.39.39.9.59 1.41.59.51 0 1.02-.2 1.41-.59l7.78-7.78 2.81-2.81c.8-.78.8-2.07 0-2.86zM5.41 20L4 18.59l7.72-7.72 1.47 1.35L5.41 20z\"/>\n",
              "  </svg>\n",
              "      </button>\n",
              "      \n",
              "  <style>\n",
              "    .colab-df-container {\n",
              "      display:flex;\n",
              "      flex-wrap:wrap;\n",
              "      gap: 12px;\n",
              "    }\n",
              "\n",
              "    .colab-df-convert {\n",
              "      background-color: #E8F0FE;\n",
              "      border: none;\n",
              "      border-radius: 50%;\n",
              "      cursor: pointer;\n",
              "      display: none;\n",
              "      fill: #1967D2;\n",
              "      height: 32px;\n",
              "      padding: 0 0 0 0;\n",
              "      width: 32px;\n",
              "    }\n",
              "\n",
              "    .colab-df-convert:hover {\n",
              "      background-color: #E2EBFA;\n",
              "      box-shadow: 0px 1px 2px rgba(60, 64, 67, 0.3), 0px 1px 3px 1px rgba(60, 64, 67, 0.15);\n",
              "      fill: #174EA6;\n",
              "    }\n",
              "\n",
              "    [theme=dark] .colab-df-convert {\n",
              "      background-color: #3B4455;\n",
              "      fill: #D2E3FC;\n",
              "    }\n",
              "\n",
              "    [theme=dark] .colab-df-convert:hover {\n",
              "      background-color: #434B5C;\n",
              "      box-shadow: 0px 1px 3px 1px rgba(0, 0, 0, 0.15);\n",
              "      filter: drop-shadow(0px 1px 2px rgba(0, 0, 0, 0.3));\n",
              "      fill: #FFFFFF;\n",
              "    }\n",
              "  </style>\n",
              "\n",
              "      <script>\n",
              "        const buttonEl =\n",
              "          document.querySelector('#df-ca8068ce-57d0-4856-b038-52327c4d3767 button.colab-df-convert');\n",
              "        buttonEl.style.display =\n",
              "          google.colab.kernel.accessAllowed ? 'block' : 'none';\n",
              "\n",
              "        async function convertToInteractive(key) {\n",
              "          const element = document.querySelector('#df-ca8068ce-57d0-4856-b038-52327c4d3767');\n",
              "          const dataTable =\n",
              "            await google.colab.kernel.invokeFunction('convertToInteractive',\n",
              "                                                     [key], {});\n",
              "          if (!dataTable) return;\n",
              "\n",
              "          const docLinkHtml = 'Like what you see? Visit the ' +\n",
              "            '<a target=\"_blank\" href=https://colab.research.google.com/notebooks/data_table.ipynb>data table notebook</a>'\n",
              "            + ' to learn more about interactive tables.';\n",
              "          element.innerHTML = '';\n",
              "          dataTable['output_type'] = 'display_data';\n",
              "          await google.colab.output.renderOutput(dataTable, element);\n",
              "          const docLink = document.createElement('div');\n",
              "          docLink.innerHTML = docLinkHtml;\n",
              "          element.appendChild(docLink);\n",
              "        }\n",
              "      </script>\n",
              "    </div>\n",
              "  </div>\n",
              "  "
            ]
          },
          "metadata": {},
          "execution_count": 108
        }
      ]
    },
    {
      "cell_type": "markdown",
      "source": [
        "### 1.2. Feature Selection: keeping only numerical features\n",
        "\n",
        "Scikit-Learn models cannot deal with categorical features"
      ],
      "metadata": {
        "id": "82zpDl1EaF9e"
      }
    },
    {
      "cell_type": "code",
      "source": [
        "X_num = X.select_dtypes(include=\"number\")"
      ],
      "metadata": {
        "id": "ojdDk7czaMXz"
      },
      "execution_count": 109,
      "outputs": []
    },
    {
      "cell_type": "markdown",
      "source": [
        "### 1.3. Data splitting"
      ],
      "metadata": {
        "id": "Q7cENP9haZh0"
      }
    },
    {
      "cell_type": "code",
      "source": [
        "from sklearn.model_selection import train_test_split\n",
        "\n",
        "X_num_train, X_num_test, y_train, y_test = train_test_split(X_num, \n",
        "                                                            y, \n",
        "                                                            test_size=0.2, \n",
        "                                                            random_state=123)"
      ],
      "metadata": {
        "id": "EuzK8-zBaasv"
      },
      "execution_count": 110,
      "outputs": []
    },
    {
      "cell_type": "markdown",
      "source": [
        "### 1.4. Imputing missing values\n",
        "\n",
        "(Fit on train, transform train & test)"
      ],
      "metadata": {
        "id": "BmipIbG86xwq"
      }
    },
    {
      "cell_type": "code",
      "source": [
        "from sklearn.impute import SimpleImputer\n",
        "\n",
        "my_imputer = SimpleImputer() # initialize\n",
        "my_imputer.fit(X_num_train) # fit on the train set\n",
        "X_num_imputed_train = my_imputer.transform(X_num_train) # transform the train set\n",
        "X_num_imputed_test = my_imputer.transform(X_num_test) # transform the test set"
      ],
      "metadata": {
        "id": "xkYOxsEP6xV6"
      },
      "execution_count": 111,
      "outputs": []
    },
    {
      "cell_type": "markdown",
      "source": [
        "### 1.5. Modelling: Decision Tree"
      ],
      "metadata": {
        "id": "aoQJ5L-z6-v1"
      }
    },
    {
      "cell_type": "code",
      "source": [
        "# 1. import the model\n",
        "from sklearn.tree import DecisionTreeClassifier \n",
        "\n",
        "# 2. initialize the model\n",
        "my_tree = DecisionTreeClassifier(max_depth=6,\n",
        "                                 min_samples_leaf=10\n",
        "                                )\n",
        "\n",
        "# 3. fit the model to the train data\n",
        "my_tree.fit(X = X_num_imputed_train, \n",
        "            y = y_train)"
      ],
      "metadata": {
        "colab": {
          "base_uri": "https://localhost:8080/"
        },
        "id": "tZdpLbkW6_qp",
        "outputId": "5df11b4a-9e5a-4661-f981-b6a8e39d21c9"
      },
      "execution_count": 112,
      "outputs": [
        {
          "output_type": "execute_result",
          "data": {
            "text/plain": [
              "DecisionTreeClassifier(max_depth=6, min_samples_leaf=10)"
            ]
          },
          "metadata": {},
          "execution_count": 112
        }
      ]
    },
    {
      "cell_type": "markdown",
      "source": [
        "### 1.6. Check accuracy on the train set"
      ],
      "metadata": {
        "id": "cheDeLv97P00"
      }
    },
    {
      "cell_type": "code",
      "source": [
        "from sklearn.metrics import accuracy_score\n",
        "\n",
        "y_pred_tree_train = my_tree.predict(X_num_imputed_train)\n",
        "\n",
        "accuracy_score(y_true = y_train,\n",
        "               y_pred = y_pred_tree_train)"
      ],
      "metadata": {
        "colab": {
          "base_uri": "https://localhost:8080/"
        },
        "id": "GAcyazZi7Q_0",
        "outputId": "66d1b658-334d-46c2-aa22-14b8e4eade66"
      },
      "execution_count": 113,
      "outputs": [
        {
          "output_type": "execute_result",
          "data": {
            "text/plain": [
              "0.7359550561797753"
            ]
          },
          "metadata": {},
          "execution_count": 113
        }
      ]
    },
    {
      "cell_type": "markdown",
      "source": [
        "### 1.7. Check accuracy on the test set"
      ],
      "metadata": {
        "id": "ctRb7GKe79Hx"
      }
    },
    {
      "cell_type": "code",
      "source": [
        "y_pred_tree_test = my_tree.predict(X_num_imputed_test)\n",
        "\n",
        "accuracy_score(y_true = y_test,\n",
        "               y_pred = y_pred_tree_test)"
      ],
      "metadata": {
        "colab": {
          "base_uri": "https://localhost:8080/"
        },
        "id": "9jka4j5j7_ER",
        "outputId": "09d39772-d233-4b75-cfa3-1320f4a60a9a"
      },
      "execution_count": 114,
      "outputs": [
        {
          "output_type": "execute_result",
          "data": {
            "text/plain": [
              "0.7094972067039106"
            ]
          },
          "metadata": {},
          "execution_count": 114
        }
      ]
    },
    {
      "cell_type": "markdown",
      "source": [
        "## 2. Creating a Pipeline"
      ],
      "metadata": {
        "id": "2PsXMa248IMC"
      }
    },
    {
      "cell_type": "code",
      "source": [
        "from sklearn.impute import SimpleImputer\n",
        "from sklearn.tree import DecisionTreeClassifier\n",
        "from sklearn.pipeline import make_pipeline\n",
        "\n",
        "# 1. initialize transformers &amp; model\n",
        "imputer = SimpleImputer(strategy=\"median\")\n",
        "dtree = DecisionTreeClassifier(max_depth=4,\n",
        "                               min_samples_leaf=10)\n",
        " \n",
        "# 2. Create a pipeline*\n",
        "pipe = make_pipeline(imputer, dtree)\n",
        " \n",
        "# 3. Fit the pipeline to the training data\n",
        "pipe.fit(X_num_train, y_train)\n",
        " \n",
        "# 4. Use the pipeline to make predictions\n",
        "pipe.predict(X_num_test)"
      ],
      "metadata": {
        "colab": {
          "base_uri": "https://localhost:8080/"
        },
        "id": "Ve93KKq78JiL",
        "outputId": "53666dc5-d8ce-48cf-ad42-e2124bdf6eb1"
      },
      "execution_count": 115,
      "outputs": [
        {
          "output_type": "execute_result",
          "data": {
            "text/plain": [
              "array([1, 0, 1, 0, 0, 0, 1, 1, 0, 0, 0, 0, 1, 0, 0, 1, 1, 1, 0, 1, 0, 1,\n",
              "       0, 1, 1, 0, 0, 1, 0, 0, 1, 1, 0, 0, 1, 0, 0, 0, 0, 1, 1, 0, 0, 0,\n",
              "       0, 0, 1, 1, 0, 1, 0, 1, 0, 0, 0, 0, 0, 0, 1, 0, 1, 1, 1, 1, 0, 0,\n",
              "       0, 0, 1, 0, 1, 0, 1, 0, 0, 0, 0, 0, 1, 1, 0, 0, 0, 0, 0, 0, 1, 0,\n",
              "       1, 0, 0, 1, 0, 1, 1, 0, 1, 1, 0, 1, 1, 1, 0, 0, 0, 1, 0, 0, 0, 0,\n",
              "       1, 1, 1, 0, 0, 0, 0, 0, 0, 1, 0, 0, 1, 0, 1, 0, 0, 1, 0, 0, 0, 0,\n",
              "       0, 1, 0, 0, 1, 0, 0, 1, 0, 1, 0, 1, 1, 0, 0, 0, 0, 1, 0, 0, 0, 0,\n",
              "       1, 0, 0, 1, 0, 0, 0, 0, 1, 1, 0, 1, 0, 0, 0, 0, 0, 1, 0, 1, 0, 0,\n",
              "       1, 0, 0])"
            ]
          },
          "metadata": {},
          "execution_count": 115
        }
      ]
    },
    {
      "cell_type": "markdown",
      "source": [
        "## 3. Using GridsearchCV to find the best parameters"
      ],
      "metadata": {
        "id": "GljUtKvC8fgX"
      }
    },
    {
      "cell_type": "code",
      "source": [
        "# 1. initialize transformers &amp; model\n",
        "imputer = SimpleImputer()\n",
        "dtree = DecisionTreeClassifier()\n",
        " \n",
        "# 2. Create a pipeline*\n",
        "pipe = make_pipeline(imputer, dtree)\n",
        "\n",
        "param_grid = {\n",
        "    'decisiontreeclassifier__max_depth': range(2, 12),\n",
        "    'decisiontreeclassifier__min_samples_leaf': range(3, 10, 2),\n",
        "    'decisiontreeclassifier__min_samples_split': range(3, 40, 5),\n",
        "    'decisiontreeclassifier__criterion':['gini', 'entropy']\n",
        "    }\n",
        "    \n",
        "from sklearn.model_selection import GridSearchCV\n",
        " \n",
        "search = GridSearchCV(pipe, # you have defined this beforehand\n",
        "                      param_grid, # your parameter grid\n",
        "                      cv=5, # the value for K in K-fold Cross Validation\n",
        "                      scoring='accuracy', # the performance metric to use, \n",
        "                      verbose=1) # we want informative outputs during the training process"
      ],
      "metadata": {
        "id": "DFYZ0KcJ8gj1"
      },
      "execution_count": 116,
      "outputs": []
    },
    {
      "cell_type": "code",
      "source": [
        "search.fit(X_num_imputed_train, y_train)"
      ],
      "metadata": {
        "colab": {
          "base_uri": "https://localhost:8080/"
        },
        "id": "bsu3sjK384lk",
        "outputId": "f35b17ee-f59c-46c9-ed44-70af0f660f33"
      },
      "execution_count": 117,
      "outputs": [
        {
          "output_type": "stream",
          "name": "stdout",
          "text": [
            "Fitting 5 folds for each of 640 candidates, totalling 3200 fits\n"
          ]
        },
        {
          "output_type": "execute_result",
          "data": {
            "text/plain": [
              "GridSearchCV(cv=5,\n",
              "             estimator=Pipeline(steps=[('simpleimputer', SimpleImputer()),\n",
              "                                       ('decisiontreeclassifier',\n",
              "                                        DecisionTreeClassifier())]),\n",
              "             param_grid={'decisiontreeclassifier__criterion': ['gini',\n",
              "                                                               'entropy'],\n",
              "                         'decisiontreeclassifier__max_depth': range(2, 12),\n",
              "                         'decisiontreeclassifier__min_samples_leaf': range(3, 10, 2),\n",
              "                         'decisiontreeclassifier__min_samples_split': range(3, 40, 5)},\n",
              "             scoring='accuracy', verbose=1)"
            ]
          },
          "metadata": {},
          "execution_count": 117
        }
      ]
    },
    {
      "cell_type": "code",
      "source": [
        "search.best_params_"
      ],
      "metadata": {
        "colab": {
          "base_uri": "https://localhost:8080/"
        },
        "id": "RfrD8vE49B2z",
        "outputId": "fda78245-7b0e-4ee7-9438-e34e8732c9c8"
      },
      "execution_count": 118,
      "outputs": [
        {
          "output_type": "execute_result",
          "data": {
            "text/plain": [
              "{'decisiontreeclassifier__criterion': 'gini',\n",
              " 'decisiontreeclassifier__max_depth': 7,\n",
              " 'decisiontreeclassifier__min_samples_leaf': 3,\n",
              " 'decisiontreeclassifier__min_samples_split': 8}"
            ]
          },
          "metadata": {},
          "execution_count": 118
        }
      ]
    },
    {
      "cell_type": "code",
      "source": [
        "search.best_score_"
      ],
      "metadata": {
        "colab": {
          "base_uri": "https://localhost:8080/"
        },
        "id": "b4cljKVj9IIn",
        "outputId": "03f361c9-07a0-43d5-84c5-6f1423c5ca08"
      },
      "execution_count": 119,
      "outputs": [
        {
          "output_type": "execute_result",
          "data": {
            "text/plain": [
              "0.70508224170196"
            ]
          },
          "metadata": {},
          "execution_count": 119
        }
      ]
    }
  ],
  "metadata": {
    "kernelspec": {
      "display_name": "Python 3",
      "language": "python",
      "name": "python3"
    },
    "language_info": {
      "codemirror_mode": {
        "name": "ipython",
        "version": 3
      },
      "file_extension": ".py",
      "mimetype": "text/x-python",
      "name": "python",
      "nbconvert_exporter": "python",
      "pygments_lexer": "ipython3",
      "version": "3.8.5"
    },
    "colab": {
      "provenance": [],
      "collapsed_sections": [
        "x9RPgKLhvu5b"
      ]
    }
  },
  "nbformat": 4,
  "nbformat_minor": 0
}